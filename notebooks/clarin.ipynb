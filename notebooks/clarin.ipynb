{
 "cells": [
  {
   "cell_type": "markdown",
   "metadata": {},
   "source": [
    "## Ejemplo de Clarín\n",
    "\n",
    "Veamos cómo scrappear una noticia de Clarín y obtener toda la información pertinente"
   ]
  },
  {
   "cell_type": "code",
   "execution_count": 21,
   "metadata": {},
   "outputs": [],
   "source": [
    "from newspaper import Article\n",
    "\n",
    "url = \"https://www.clarin.com/politica/campana-cristina-kirchner-paso_0_cUejtW0fJ.html\"\n",
    "\n",
    "article = Article(url)"
   ]
  },
  {
   "cell_type": "markdown",
   "metadata": {},
   "source": [
    "Bajemos el artículo"
   ]
  },
  {
   "cell_type": "code",
   "execution_count": 22,
   "metadata": {},
   "outputs": [],
   "source": [
    "article.download()"
   ]
  },
  {
   "cell_type": "markdown",
   "metadata": {},
   "source": [
    "Analicémoslo"
   ]
  },
  {
   "cell_type": "code",
   "execution_count": 24,
   "metadata": {},
   "outputs": [],
   "source": [
    "article.parse()"
   ]
  },
  {
   "cell_type": "code",
   "execution_count": 25,
   "metadata": {},
   "outputs": [
    {
     "data": {
      "text/plain": [
       "['Pablo De León']"
      ]
     },
     "execution_count": 25,
     "metadata": {},
     "output_type": "execute_result"
    }
   ],
   "source": [
    "article.authors"
   ]
  },
  {
   "cell_type": "code",
   "execution_count": 28,
   "metadata": {},
   "outputs": [
    {
     "name": "stdout",
     "output_type": "stream",
     "text": [
      "Cristina Fernández de Kirchner ya diagramó su campaña de acá a las PASO. De la mano de presentaciones de su libro “Sinceramente”, la precandidata a vicepresidente hará tres presentaciones en la provin\n"
     ]
    }
   ],
   "source": [
    "print(article.text[:200])"
   ]
  },
  {
   "cell_type": "markdown",
   "metadata": {},
   "source": [
    "## Extrayendo los artículos de Clarín"
   ]
  },
  {
   "cell_type": "code",
   "execution_count": 36,
   "metadata": {},
   "outputs": [],
   "source": [
    "import newspaper\n",
    "\n",
    "clarin = newspaper.build(\"http://clarin.com\", memoize_articles=False)"
   ]
  },
  {
   "cell_type": "code",
   "execution_count": 38,
   "metadata": {},
   "outputs": [
    {
     "name": "stdout",
     "output_type": "stream",
     "text": [
      "Tenemos 277 artículos nuevos\n"
     ]
    }
   ],
   "source": [
    "print(\"Tenemos {} artículos nuevos\".format(clarin.size()))"
   ]
  },
  {
   "cell_type": "code",
   "execution_count": 43,
   "metadata": {},
   "outputs": [
    {
     "name": "stdout",
     "output_type": "stream",
     "text": [
      "-- Cómo será el séptimo capítulo de la serie de Carlos Monzón: la noche en la que aparece Susana Giménez -- ['Federico Ladrón De Guevara']\n",
      "-- El Rey León, reina, Toy Story 4 acompaña -- ['Pablo O. Scholz']\n",
      "-- Michael Sarian, el trompetista canadiense que busca sonidos en todos los géneros -- ['César Pradines']\n",
      "-- Crítica de “Ice on Fire”, por HBO: Quién dijo que todo está perdido -- ['Pablo O. Scholz']\n",
      "-- El nieto de Carlos Monzón incomodó a Susana Giménez con una filosa pregunta -- []\n",
      "-- Griselda Siciliani y Germán Palacios protagonizan “La mujer de al lado”, un relato que pasó del cine al teatro -- ['Juan Erbiti']\n",
      "-- Murió el hermano de Nequi Galotti: “Hoy es el día más triste de mi vida” -- []\n",
      "-- Bradley Cooper e Irina Shayk intentan la custodia compartida de su hija Lea -- []\n",
      "-- Bradley Cooper y Lady Gaga no son los únicos: otras cinco parejas que nacieron en un set de filmación -- ['Sandra Commisso']\n",
      "-- Lady Gaga y Bradley Cooper ya conviven: la historia de un flechazo hollywoodense -- []\n",
      "-- Angelina Jolie y Brad Pitt firman un acuerdo: ella dejará a los hijos a su cuidado mientras filma una película -- []\n",
      "-- Tini Stoessel dio detalles de su romance con Sebastián Yatra -- []\n",
      "-- Eva de Dominici ¿dio una pista sobre el sexo de su futuro bebé? -- []\n",
      "-- Las fotos de Lollapalooza París, miles de personas disfrutaron de lo mejor de la música -- []\n",
      "-- Las fotos de Virginia Gallardo quién incomodó a Axel Kicillof con una pregunta sobre economía -- []\n",
      "-- Se confirma el romance entre Lady Gaga y Bradley Cooper -- []\n",
      "-- Ricky Martin, René Pérez, Bad Bunny y Benicio del Toro encabezan una marcha destituyente en Puerto Rico -- []\n",
      "-- La casa de papel presentó su nueva temporada en Bogotá -- []\n",
      "-- Muchas celebridades en el estreno mundial de la película de El Rey León -- []\n",
      "-- Comic-Con: el mayor evento de cultura pop cumple 50 años -- []\n",
      "-- Las tiras inolvidables de Polka en imágenes -- []\n",
      "-- Volvió “Susana Giménez”, a la televisión y luego fue a festejar con su familia y amigos -- []\n",
      "-- Hip-hop en el hall del Teatro San Martín para festejar la toma de La Bastilla -- []\n",
      "-- Un pancho gigante para dormir en el Lollapalooza, ¿llegará a Buenos Aires? -- []\n",
      "-- Crítica de “Volviendo a casa”: al rescate de un tripulante de un submarino -- ['Gaspar Zimerman']\n",
      "-- Crítica de “El Rey León”: La canción sigue siendo la misma -- ['Pablo O. Scholz']\n",
      "-- No a la Guita, la nueva comedia que va a dirigir Lía Jelín -- []\n",
      "-- La gira Us + Them, de Roger Waters, llega al cine y será estrenada en Buenos Aires -- []\n",
      "-- Dónde y cuándo ver la maratón de Monzón, la biopic sobre el ex boxeador -- []\n",
      "-- Tres nuevos cuentos coreográficos, en el Teatro San Martín -- ['Laura Falcoff']\n"
     ]
    }
   ],
   "source": [
    "for article in clarin.articles[:30]:\n",
    "    article.download()\n",
    "    article.parse()\n",
    "    print(\"-- {} -- {}\".format(article.title, article.authors))"
   ]
  }
 ],
 "metadata": {
  "kernelspec": {
   "display_name": "Python 3",
   "language": "python",
   "name": "python3"
  },
  "language_info": {
   "codemirror_mode": {
    "name": "ipython",
    "version": 3
   },
   "file_extension": ".py",
   "mimetype": "text/x-python",
   "name": "python",
   "nbconvert_exporter": "python",
   "pygments_lexer": "ipython3",
   "version": "3.6.5"
  }
 },
 "nbformat": 4,
 "nbformat_minor": 4
}
